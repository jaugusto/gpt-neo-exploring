{
  "nbformat": 4,
  "nbformat_minor": 0,
  "metadata": {
    "colab": {
      "provenance": [],
      "collapsed_sections": [],
      "authorship_tag": "ABX9TyOIEC61bljAh8ip/9uihFqy",
      "include_colab_link": true
    },
    "kernelspec": {
      "name": "python3",
      "display_name": "Python 3"
    },
    "language_info": {
      "name": "python"
    }
  },
  "cells": [
    {
      "cell_type": "markdown",
      "metadata": {
        "id": "view-in-github",
        "colab_type": "text"
      },
      "source": [
        "<a href=\"https://colab.research.google.com/github/jaugusto/geo-neo-exploring/blob/main/gpt_neo_simple_bill_generator.ipynb\" target=\"_parent\"><img src=\"https://colab.research.google.com/assets/colab-badge.svg\" alt=\"Open In Colab\"/></a>"
      ]
    },
    {
      "cell_type": "markdown",
      "source": [
        "**A SIMPLE BILL GENERATOR USING GPT-NEO**"
      ],
      "metadata": {
        "id": "qzlk3wKnh4Oe"
      }
    },
    {
      "cell_type": "code",
      "source": [
        "pip install happytransformer"
      ],
      "metadata": {
        "id": "ClERyWa3h2N_"
      },
      "execution_count": null,
      "outputs": []
    },
    {
      "cell_type": "code",
      "source": [
        "pip install datasets"
      ],
      "metadata": {
        "id": "SYnfSVqukFBQ"
      },
      "execution_count": null,
      "outputs": []
    },
    {
      "cell_type": "code",
      "source": [
        "from happytransformer import HappyGeneration"
      ],
      "metadata": {
        "id": "TBGmIxmwiA6J"
      },
      "execution_count": null,
      "outputs": []
    },
    {
      "cell_type": "code",
      "source": [
        "from datasets import load_dataset"
      ],
      "metadata": {
        "id": "MjPQHgN2kH0R"
      },
      "execution_count": null,
      "outputs": []
    },
    {
      "cell_type": "code",
      "source": [
        "from happytransformer import GENTrainArgs"
      ],
      "metadata": {
        "id": "_o0mKIUmoMCx"
      },
      "execution_count": null,
      "outputs": []
    },
    {
      "cell_type": "code",
      "source": [
        "happy_gen = HappyGeneration(\"GPT-NEO\", \"EleutherAI/gpt-neo-125M\")"
      ],
      "metadata": {
        "id": "qY9ilPxDiA80"
      },
      "execution_count": null,
      "outputs": []
    },
    {
      "cell_type": "code",
      "source": [
        "train_dataset = load_dataset(\"billsum\", split=\"train[0:312]\")"
      ],
      "metadata": {
        "id": "VPIzHj3-iA_Z"
      },
      "execution_count": null,
      "outputs": []
    },
    {
      "cell_type": "code",
      "source": [
        "eval_dataset = load_dataset(\"billsum\", split=\"test[0:62]\")"
      ],
      "metadata": {
        "id": "M4xZqX6LiBCO"
      },
      "execution_count": null,
      "outputs": []
    },
    {
      "cell_type": "code",
      "source": [
        "def generate_text_file_for_happy_transformer(path, dataset):\n",
        "  with open(path, 'w') as text_file:\n",
        "    for case in dataset:\n",
        "      text = case[\"summary\"]\n",
        "      text_file.write(text + \"\\n\")\n"
      ],
      "metadata": {
        "id": "kBltQTPmjdzf"
      },
      "execution_count": null,
      "outputs": []
    },
    {
      "cell_type": "code",
      "source": [
        "generate_text_file_for_happy_transformer(\"train.txt\", train_dataset)"
      ],
      "metadata": {
        "id": "V8yP69qyjd2b"
      },
      "execution_count": null,
      "outputs": []
    },
    {
      "cell_type": "code",
      "source": [
        "generate_text_file_for_happy_transformer(\"eval.txt\", eval_dataset)"
      ],
      "metadata": {
        "id": "oxR5-UkIjd5V"
      },
      "execution_count": null,
      "outputs": []
    },
    {
      "cell_type": "code",
      "source": [
        "result_before = happy_gen.eval(\"eval.txt\")"
      ],
      "metadata": {
        "id": "cGfNuglQjd76"
      },
      "execution_count": null,
      "outputs": []
    },
    {
      "cell_type": "code",
      "source": [
        "print(f'Loss before train model {result_before.loss}')"
      ],
      "metadata": {
        "id": "ob850V_jm4h7"
      },
      "execution_count": null,
      "outputs": []
    },
    {
      "cell_type": "code",
      "source": [
        "train_args = GENTrainArgs(num_train_epochs=3, learning_rate=5e-5)"
      ],
      "metadata": {
        "id": "u-XgP-_xm4lE"
      },
      "execution_count": null,
      "outputs": []
    },
    {
      "cell_type": "code",
      "source": [
        "happy_gen.train(\"train.txt\", args=train_args)"
      ],
      "metadata": {
        "id": "toXJ8uDNm4sn"
      },
      "execution_count": null,
      "outputs": []
    },
    {
      "cell_type": "code",
      "source": [
        "result_after = happy_gen.eval(\"eval.txt\")"
      ],
      "metadata": {
        "id": "TSznxJ2En7SJ"
      },
      "execution_count": null,
      "outputs": []
    },
    {
      "cell_type": "code",
      "source": [
        "print(f'Loss after train the model {result_after.loss}')"
      ],
      "metadata": {
        "id": "vTn3zCd8n7Zg"
      },
      "execution_count": null,
      "outputs": []
    },
    {
      "cell_type": "code",
      "source": [],
      "metadata": {
        "id": "jrJ_FwfDjd-h"
      },
      "execution_count": null,
      "outputs": []
    }
  ]
}