{
  "nbformat": 4,
  "nbformat_minor": 0,
  "metadata": {
    "colab": {
      "provenance": [],
      "collapsed_sections": [],
      "authorship_tag": "ABX9TyNeGQ8nrnTahpZmOipGV618",
      "include_colab_link": true
    },
    "kernelspec": {
      "name": "python3",
      "display_name": "Python 3"
    },
    "language_info": {
      "name": "python"
    },
    "accelerator": "GPU"
  },
  "cells": [
    {
      "cell_type": "markdown",
      "metadata": {
        "id": "view-in-github",
        "colab_type": "text"
      },
      "source": [
        "<a href=\"https://colab.research.google.com/github/jaugusto/geo-neo-exploring/blob/main/training_gpt_neo.ipynb\" target=\"_parent\"><img src=\"https://colab.research.google.com/assets/colab-badge.svg\" alt=\"Open In Colab\"/></a>"
      ]
    },
    {
      "cell_type": "code",
      "execution_count": null,
      "metadata": {
        "id": "0K7t76ZkW9Y0"
      },
      "outputs": [],
      "source": [
        "pip install happytransformer"
      ]
    },
    {
      "cell_type": "code",
      "source": [
        "from happytransformer import HappyGeneration"
      ],
      "metadata": {
        "id": "JxfLzBG5XKE9"
      },
      "execution_count": null,
      "outputs": []
    },
    {
      "cell_type": "code",
      "source": [
        "happy_gen = HappyGeneration(\"GPT-Neo\", \"EleutherAI/gpt-neo-125M\")"
      ],
      "metadata": {
        "id": "AaEN3q0PXNM-"
      },
      "execution_count": null,
      "outputs": []
    },
    {
      "cell_type": "code",
      "source": [
        "result = happy_gen.generate_text(\"The winter is\")"
      ],
      "metadata": {
        "id": "wzCzBKrRYnQm"
      },
      "execution_count": null,
      "outputs": []
    },
    {
      "cell_type": "code",
      "source": [
        "print(result.text)"
      ],
      "metadata": {
        "id": "6MuhUGcbYq4j"
      },
      "execution_count": null,
      "outputs": []
    },
    {
      "cell_type": "markdown",
      "source": [
        "**Train GPT-NEO using train.txt**"
      ],
      "metadata": {
        "id": "deS-gfZgbcZH"
      }
    },
    {
      "cell_type": "markdown",
      "source": [
        "The content of train.txt:\n",
        "\n",
        "*Line 1: This file contains text to train a text generation model*\n",
        "\n",
        "*Line 2: This file contains text to train a text generation model*\n",
        "\n",
        "*Line 3: This file contains text to train a text generation model*\n",
        "\n",
        "*Line 4: This file contains text to train a text generation model*\n"
      ],
      "metadata": {
        "id": "yVpyv-DrbiFT"
      }
    },
    {
      "cell_type": "code",
      "source": [
        "happy_gen2 = HappyGeneration(\"GPT-Neo\", \"EleutherAI/gpt-neo-125M\")"
      ],
      "metadata": {
        "id": "Wfa3BH_CZfPV"
      },
      "execution_count": null,
      "outputs": []
    },
    {
      "cell_type": "code",
      "source": [
        "happy_gen2.train(\"train.txt\")"
      ],
      "metadata": {
        "id": "TvtKTeamcWM1"
      },
      "execution_count": null,
      "outputs": []
    },
    {
      "cell_type": "code",
      "source": [
        "result2 = happy_gen2.eval(\"train.txt\")"
      ],
      "metadata": {
        "id": "PvRd9typcnVl"
      },
      "execution_count": null,
      "outputs": []
    },
    {
      "cell_type": "code",
      "source": [
        "print(result2.loss)"
      ],
      "metadata": {
        "id": "B5VC-nAlcnc_"
      },
      "execution_count": null,
      "outputs": []
    },
    {
      "cell_type": "code",
      "source": [
        "happy_gen2.train(\"train.txt\")"
      ],
      "metadata": {
        "id": "Nd9lfJZodg4O"
      },
      "execution_count": null,
      "outputs": []
    },
    {
      "cell_type": "code",
      "source": [
        "happy_gen2.train(\"train.txt\")"
      ],
      "metadata": {
        "id": "s5f0WqLCdg7o"
      },
      "execution_count": null,
      "outputs": []
    },
    {
      "cell_type": "code",
      "source": [
        "happy_gen2.train(\"train.txt\")"
      ],
      "metadata": {
        "id": "rYgn6lqQdhBC"
      },
      "execution_count": null,
      "outputs": []
    },
    {
      "cell_type": "code",
      "source": [
        "result3 = happy_gen2.eval(\"train.txt\")"
      ],
      "metadata": {
        "id": "bPntUsypdjEt"
      },
      "execution_count": null,
      "outputs": []
    },
    {
      "cell_type": "code",
      "source": [
        "print(result3.loss)"
      ],
      "metadata": {
        "id": "dwZFQVh0dlKL"
      },
      "execution_count": null,
      "outputs": []
    },
    {
      "cell_type": "markdown",
      "source": [
        "**Modifying learning_rate, num_train_epochs and weight_decay:**"
      ],
      "metadata": {
        "id": "pzWJrAGYfMOJ"
      }
    },
    {
      "cell_type": "code",
      "source": [
        "from happytransformer import GENTrainArgs"
      ],
      "metadata": {
        "id": "o0Pnrz6HfIWK"
      },
      "execution_count": null,
      "outputs": []
    },
    {
      "cell_type": "code",
      "source": [
        "train_args = GENTrainArgs(num_train_epochs=1, learning_rate=1e-5, weight_decay=0.01)"
      ],
      "metadata": {
        "id": "MLaOJpWffIYz"
      },
      "execution_count": null,
      "outputs": []
    },
    {
      "cell_type": "code",
      "source": [
        "happy_gen.train(\"train.txt\", args=train_args)"
      ],
      "metadata": {
        "id": "0J7bD5qVfIee"
      },
      "execution_count": null,
      "outputs": []
    },
    {
      "cell_type": "code",
      "source": [
        "results = happy_gen.eval(\"train.txt\")"
      ],
      "metadata": {
        "id": "E_3g3ctkfolg"
      },
      "execution_count": null,
      "outputs": []
    },
    {
      "cell_type": "code",
      "source": [
        "print(results.loss)"
      ],
      "metadata": {
        "id": "k8b0nBlWfop-"
      },
      "execution_count": null,
      "outputs": []
    },
    {
      "cell_type": "code",
      "source": [],
      "metadata": {
        "id": "xGB2T7DpfosW"
      },
      "execution_count": null,
      "outputs": []
    },
    {
      "cell_type": "code",
      "source": [],
      "metadata": {
        "id": "VfWJWNu7fou2"
      },
      "execution_count": null,
      "outputs": []
    }
  ]
}